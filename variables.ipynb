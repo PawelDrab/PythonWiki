{
 "metadata": {
  "language_info": {
   "codemirror_mode": {
    "name": "ipython",
    "version": 3
   },
   "file_extension": ".py",
   "mimetype": "text/x-python",
   "name": "python",
   "nbconvert_exporter": "python",
   "pygments_lexer": "ipython3",
   "version": "3.9.2"
  },
  "orig_nbformat": 2,
  "kernelspec": {
   "name": "python392jvsc74a57bd063fd5069d213b44bf678585dea6b12cceca9941eaf7f819626cde1f2670de90d",
   "display_name": "Python 3.9.2 64-bit"
  },
  "metadata": {
   "interpreter": {
    "hash": "63fd5069d213b44bf678585dea6b12cceca9941eaf7f819626cde1f2670de90d"
   }
  }
 },
 "nbformat": 4,
 "nbformat_minor": 2,
 "cells": [
  {
   "source": [
    "# Variables"
   ],
   "cell_type": "markdown",
   "metadata": {}
  },
  {
   "source": [
    "## Quotes and text concatenation"
   ],
   "cell_type": "markdown",
   "metadata": {}
  },
  {
   "cell_type": "code",
   "execution_count": 22,
   "metadata": {},
   "outputs": [
    {
     "output_type": "execute_result",
     "data": {
      "text/plain": [
       "'first line, second line, third line'"
      ]
     },
     "metadata": {},
     "execution_count": 22
    }
   ],
   "source": [
    "# text splited in braces\n",
    "text = (\"first line\"\n",
    "    \", second line\"\n",
    "    \", third line\")\n",
    "text\n"
   ]
  },
  {
   "cell_type": "code",
   "execution_count": 23,
   "metadata": {},
   "outputs": [
    {
     "output_type": "execute_result",
     "data": {
      "text/plain": [
       "'just text and some other without concatenation sign'"
      ]
     },
     "metadata": {},
     "execution_count": 23
    }
   ],
   "source": [
    "#concatenation without concatenation\n",
    "\"just text\" \" and some other \" \"without concatenation sign\""
   ]
  },
  {
   "cell_type": "code",
   "execution_count": 24,
   "metadata": {},
   "outputs": [
    {
     "output_type": "stream",
     "name": "stdout",
     "text": [
      "Text between quotation marks: 'Highway to Hel'\n"
     ]
    }
   ],
   "source": [
    "# two types of quotes\n",
    "text = \"Text between quotation marks: 'Highway to Hel'\"\n",
    "print(text)"
   ]
  },
  {
   "cell_type": "code",
   "execution_count": 25,
   "metadata": {},
   "outputs": [
    {
     "output_type": "stream",
     "name": "stdout",
     "text": [
      "I'm Paweł Drab\n"
     ]
    }
   ],
   "source": [
    "# Switch quotes with escape sign: \\\n",
    "text = 'I\\'m Paweł Drab'\n",
    "print(text)"
   ]
  },
  {
   "source": [
    "## print() function"
   ],
   "cell_type": "markdown",
   "metadata": {}
  },
  {
   "cell_type": "code",
   "execution_count": 27,
   "metadata": {},
   "outputs": [
    {
     "output_type": "stream",
     "name": "stdout",
     "text": [
      "First line\nSecond line\n"
     ]
    }
   ],
   "source": [
    "# break line with \\n\n",
    "text = \"First line\\nSecond line\"\n",
    "print(text)"
   ]
  },
  {
   "cell_type": "code",
   "execution_count": 31,
   "metadata": {},
   "outputs": [
    {
     "output_type": "stream",
     "name": "stdout",
     "text": [
      "C:\\Python\newFolder\nC:\\Python\\newFolder\nC:\\Python\\newFolder\n"
     ]
    }
   ],
   "source": [
    "# How to write \\ in output\n",
    "text = \"C:\\Python\\newFolder\"\n",
    "print(text)\n",
    "\n",
    "# r-mode\n",
    "text = r\"C:\\Python\\newFolder\"\n",
    "print(text)\n",
    "\n",
    "# double backslash\n",
    "text = \"C:\\\\Python\\\\newFolder\"\n",
    "print(text)"
   ]
  },
  {
   "cell_type": "code",
   "execution_count": 34,
   "metadata": {},
   "outputs": [
    {
     "output_type": "stream",
     "name": "stdout",
     "text": [
      "1. Lorem ipsum dolor sit amet, consectetur adipiscing elit.\n2. Nulla sit amet urna et diam vulputate dapibus nec ac ipsum.\n3. Cras malesuada mi id rhoncus tincidunt.\n4. In viverra metus ut metus vehicula volutpat.\n5. Aliquam lobortis nisi non lectus tempus, sit amet luctus tellus mollis.\n"
     ]
    }
   ],
   "source": [
    "# multiline text\n",
    "# backslash deletes break lines \n",
    "multiline = '''\\\n",
    "1. Lorem ipsum dolor sit amet, consectetur adipiscing elit.\n",
    "2. Nulla sit amet urna et diam vulputate dapibus nec ac ipsum.\n",
    "3. Cras malesuada mi id rhoncus tincidunt.\n",
    "4. In viverra metus ut metus vehicula volutpat.\n",
    "5. Aliquam lobortis nisi non lectus tempus, sit amet luctus tellus mollis.\\\n",
    "'''\n",
    "\n",
    "print(multiline)"
   ]
  },
  {
   "source": [
    "## Slice"
   ],
   "cell_type": "markdown",
   "metadata": {}
  },
  {
   "cell_type": "code",
   "execution_count": 55,
   "metadata": {},
   "outputs": [
    {
     "output_type": "stream",
     "name": "stdout",
     "text": [
      "text[2]: c\n\ntext[10]: k\n\ntext[-1]: z\n"
     ]
    }
   ],
   "source": [
    "# index string\n",
    "text = \"abcdefghijklmnoprstuwxyz\"\n",
    "print('text[2]: ' + text[2] + '\\n')\n",
    "print('text[10]: ' + text[10] + '\\n')\n",
    "print('text[-1]: ' + text[-1])"
   ]
  },
  {
   "cell_type": "code",
   "execution_count": 57,
   "metadata": {},
   "outputs": [
    {
     "output_type": "stream",
     "name": "stdout",
     "text": [
      "text[3:8]: defgh\n\ntext[3:15:2]: dfhjln\n\ntext[-2:]: yz\n\ntext[::-1]: zyxwutsrponmlkjihgfedcba\n\ntext[:10] + text[10:]: abcdefghijklmnoprstuwxyz\n\n"
     ]
    }
   ],
   "source": [
    "# slice\n",
    "# [start:stop] - stop is not included\n",
    "print('text[3:8]: ' + text[3:8] + '\\n')\n",
    "\n",
    "# [start:stop:step] - \n",
    "print('text[3:15:2]: ' + text[3:15:2] + '\\n')\n",
    "\n",
    "# [negative start:stop]\n",
    "print('text[-2:]: ' + text[-2:] + '\\n')\n",
    "\n",
    "# [::negative step] - reverse\n",
    "print('text[::-1]: ' + text[::-1] + '\\n')\n",
    "\n",
    "# sum of chains\n",
    "print('text[:10] + text[10:]: ' + text[:10] + text[10:] + '\\n')"
   ]
  },
  {
   "cell_type": "code",
   "execution_count": 60,
   "metadata": {},
   "outputs": [
    {
     "output_type": "stream",
     "name": "stdout",
     "text": [
      "text[10:100]: klmnoprstuwxyz\ntext[100:1000]: \n\n"
     ]
    },
    {
     "output_type": "error",
     "ename": "IndexError",
     "evalue": "string index out of range",
     "traceback": [
      "\u001b[1;31m---------------------------------------------------------------------------\u001b[0m",
      "\u001b[1;31mIndexError\u001b[0m                                Traceback (most recent call last)",
      "Cell \u001b[1;32mIn[60], line 6\u001b[0m\n\u001b[0;32m      3\u001b[0m \u001b[38;5;28mprint\u001b[39m(\u001b[38;5;124m'\u001b[39m\u001b[38;5;124mtext[100:1000]: \u001b[39m\u001b[38;5;124m'\u001b[39m \u001b[38;5;241m+\u001b[39m text[\u001b[38;5;241m100\u001b[39m:\u001b[38;5;241m1000\u001b[39m] \u001b[38;5;241m+\u001b[39m \u001b[38;5;124m'\u001b[39m\u001b[38;5;130;01m\\n\u001b[39;00m\u001b[38;5;124m'\u001b[39m)\n\u001b[0;32m      5\u001b[0m \u001b[38;5;66;03m# index out of range\u001b[39;00m\n\u001b[1;32m----> 6\u001b[0m \u001b[38;5;28mprint\u001b[39m(\u001b[38;5;124m'\u001b[39m\u001b[38;5;124mtext[50]: \u001b[39m\u001b[38;5;124m'\u001b[39m \u001b[38;5;241m+\u001b[39m \u001b[43mtext\u001b[49m\u001b[43m[\u001b[49m\u001b[38;5;241;43m50\u001b[39;49m\u001b[43m]\u001b[49m)\n",
      "\u001b[1;31mIndexError\u001b[0m: string index out of range"
     ]
    }
   ],
   "source": [
    "# slice out of range\n",
    "print('text[10:100]: ' + text[10:100])\n",
    "print('text[100:1000]: ' + text[100:1000] + '\\n')\n",
    "\n",
    "# index out of range\n",
    "print('text[50]: ' + text[50])"
   ]
  },
  {
   "source": [
    "## String"
   ],
   "cell_type": "markdown",
   "metadata": {}
  },
  {
   "cell_type": "code",
   "execution_count": 62,
   "metadata": {},
   "outputs": [
    {
     "output_type": "stream",
     "name": "stdout",
     "text": [
      "d\n"
     ]
    },
    {
     "output_type": "error",
     "ename": "TypeError",
     "evalue": "'str' object does not support item assignment",
     "traceback": [
      "\u001b[1;31m---------------------------------------------------------------------------\u001b[0m",
      "\u001b[1;31mTypeError\u001b[0m                                 Traceback (most recent call last)",
      "Cell \u001b[1;32mIn[62], line 4\u001b[0m\n\u001b[0;32m      1\u001b[0m \u001b[38;5;66;03m# unable to change value of slice\u001b[39;00m\n\u001b[0;32m      3\u001b[0m \u001b[38;5;28mprint\u001b[39m(text[\u001b[38;5;241m3\u001b[39m])\n\u001b[1;32m----> 4\u001b[0m \u001b[43mtext\u001b[49m\u001b[43m[\u001b[49m\u001b[38;5;241;43m3\u001b[39;49m\u001b[43m]\u001b[49m \u001b[38;5;241m=\u001b[39m \u001b[38;5;124m'\u001b[39m\u001b[38;5;124ma\u001b[39m\u001b[38;5;124m'\u001b[39m\n",
      "\u001b[1;31mTypeError\u001b[0m: 'str' object does not support item assignment"
     ]
    }
   ],
   "source": [
    "# unable to change value of slice\n",
    "\n",
    "print(text[3])\n",
    "text[3] = 'a'"
   ]
  },
  {
   "cell_type": "code",
   "execution_count": 63,
   "metadata": {},
   "outputs": [
    {
     "output_type": "error",
     "ename": "TypeError",
     "evalue": "'str' object does not support item assignment",
     "traceback": [
      "\u001b[1;31m---------------------------------------------------------------------------\u001b[0m",
      "\u001b[1;31mTypeError\u001b[0m                                 Traceback (most recent call last)",
      "Cell \u001b[1;32mIn[63], line 1\u001b[0m\n\u001b[1;32m----> 1\u001b[0m \u001b[43mtext\u001b[49m\u001b[43m[\u001b[49m\u001b[38;5;241;43m2\u001b[39;49m\u001b[43m:\u001b[49m\u001b[43m]\u001b[49m \u001b[38;5;241m=\u001b[39m \u001b[38;5;124m'\u001b[39m\u001b[38;5;124mabcd\u001b[39m\u001b[38;5;124m'\u001b[39m\n",
      "\u001b[1;31mTypeError\u001b[0m: 'str' object does not support item assignment"
     ]
    }
   ],
   "source": [
    "text[2:] = 'abcd'"
   ]
  },
  {
   "cell_type": "code",
   "execution_count": 64,
   "metadata": {},
   "outputs": [
    {
     "output_type": "execute_result",
     "data": {
      "text/plain": [
       "'ABCdefghijklmnoprstuwxyz'"
      ]
     },
     "metadata": {},
     "execution_count": 64
    }
   ],
   "source": [
    "# but:\n",
    "'ABC' + text[3:]"
   ]
  },
  {
   "cell_type": "code",
   "execution_count": null,
   "metadata": {},
   "outputs": [],
   "source": []
  },
  {
   "source": [
    "## len()"
   ],
   "cell_type": "markdown",
   "metadata": {}
  },
  {
   "cell_type": "code",
   "execution_count": 67,
   "metadata": {},
   "outputs": [
    {
     "output_type": "stream",
     "name": "stdout",
     "text": [
      "text lenght is 24\n"
     ]
    }
   ],
   "source": [
    "print(f'text lenght is {len(text)}')"
   ]
  },
  {
   "source": [
    "## input()"
   ],
   "cell_type": "markdown",
   "metadata": {}
  },
  {
   "cell_type": "code",
   "execution_count": 74,
   "metadata": {},
   "outputs": [
    {
     "output_type": "stream",
     "name": "stdout",
     "text": [
      "Sum of a = 15 and b = 26 is 41\n"
     ]
    }
   ],
   "source": [
    "a = input('Number a: ')\n",
    "b = input('Number b: ')\n",
    "sum = int(a) + int(b)\n",
    "print(f'Sum of a = {a} and b = {b} is {sum}')"
   ]
  }
 ]
}