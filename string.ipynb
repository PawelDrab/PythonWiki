{
 "cells": [
  {
   "cell_type": "markdown",
   "metadata": {},
   "source": [
    "# String functions"
   ]
  },
  {
   "cell_type": "code",
   "execution_count": 19,
   "metadata": {},
   "outputs": [],
   "source": [
    "# text to test\n",
    "helloWorld = 'HELLO WORLD'"
   ]
  },
  {
   "cell_type": "code",
   "execution_count": 20,
   "metadata": {},
   "outputs": [
    {
     "name": "stdout",
     "output_type": "stream",
     "text": [
      "Hello world\n"
     ]
    }
   ],
   "source": [
    "# capitalize\n",
    "\n",
    "print(helloWorld.capitalize())"
   ]
  },
  {
   "cell_type": "code",
   "execution_count": 21,
   "metadata": {},
   "outputs": [
    {
     "name": "stdout",
     "output_type": "stream",
     "text": [
      "text A: o sole mio!\n",
      "text A: O Sole MIO!\n",
      "False\n",
      "casefold(): True\n"
     ]
    }
   ],
   "source": [
    "# casefold - make sure we ca compare two strings, no matter they are upper or lowercase\n",
    "\n",
    "compareTextA = 'o sole mio!'\n",
    "compareTextB = 'O Sole MIO!'\n",
    "\n",
    "print('text A: ' + compareTextA)\n",
    "print('text A: ' + compareTextB)\n",
    "\n",
    "compareResult = compareTextA.casefold() == compareTextB.casefold()\n",
    "\n",
    "print('basic: ' + compareTextA == compareTextB)\n",
    "print('casefold(): ' + str(compareResult))"
   ]
  },
  {
   "cell_type": "code",
   "execution_count": 22,
   "metadata": {},
   "outputs": [
    {
     "name": "stdout",
     "output_type": "stream",
     "text": [
      "!!!     HELLO WORLD     !!!\n",
      "_____HELLO WORLD_____\n"
     ]
    }
   ],
   "source": [
    "# center(n) - center text in provided number of spaces\n",
    "\n",
    "print('!!!' + helloWorld.center(21) + '!!!')\n",
    "\n",
    "# center(n, char) - center string between provided chars\n",
    "\n",
    "print(helloWorld.center(21, '_'))"
   ]
  },
  {
   "cell_type": "code",
   "execution_count": 28,
   "metadata": {},
   "outputs": [
    {
     "name": "stdout",
     "output_type": "stream",
     "text": [
      "o sole mio!, o: 3\n",
      "O Sole MIO!, o: 1\n"
     ]
    }
   ],
   "source": [
    "# count(str) - count number of occuencies of str in the string\n",
    "\n",
    "char = 'o'\n",
    "\n",
    "print(f'{compareTextA}, {char}: {compareTextA.count(char)}')\n",
    "print(f'{compareTextB}, {char}: {compareTextB.count(char)}')"
   ]
  },
  {
   "cell_type": "code",
   "execution_count": 24,
   "metadata": {},
   "outputs": [
    {
     "name": "stdout",
     "output_type": "stream",
     "text": [
      "b'HELLO WORLD'\n"
     ]
    }
   ],
   "source": [
    "# encode(encoding, errors)\n",
    "\n",
    "print(helloWorld.encode('UTF-8', 'strict'))"
   ]
  },
  {
   "cell_type": "code",
   "execution_count": 27,
   "metadata": {},
   "outputs": [
    {
     "name": "stdout",
     "output_type": "stream",
     "text": [
      "char o: False\n",
      "char D: True\n",
      "tuple ('a', 'e', 'i', 'o', 'u', 'y'): True\n"
     ]
    }
   ],
   "source": [
    "# endswith(char)\n",
    "\n",
    "char = 'o'\n",
    "print(f'char {char}: {helloWorld.endswith(char)}')\n",
    "char = 'D'\n",
    "print(f'char {char}: {helloWorld.endswith(char)}')\n",
    "\n",
    "# endswith((char, char, char))\n",
    "\n",
    "voves = ('a', 'e', 'i', 'o', 'u', 'y')\n",
    "name = 'Anna'\n",
    "print(f'tuple {voves}: {name.endswith(voves)}')"
   ]
  },
  {
   "cell_type": "code",
   "execution_count": 31,
   "metadata": {},
   "outputs": [
    {
     "name": "stdout",
     "output_type": "stream",
     "text": [
      "Monday    Tuesday   Wednesday Thursday  Friday    Saturday  Sunday\n"
     ]
    }
   ],
   "source": [
    "# expandtabs(n)\n",
    "\n",
    "textWithTabs = 'Monday\\tTuesday\\tWednesday\\tThursday\\tFriday\\tSaturday\\tSunday'\n",
    "print(textWithTabs.expandtabs(10))"
   ]
  },
  {
   "cell_type": "code",
   "execution_count": 34,
   "metadata": {},
   "outputs": [
    {
     "name": "stdout",
     "output_type": "stream",
     "text": [
      "5\n",
      "No result: -1\n"
     ]
    }
   ],
   "source": [
    "# find(text) - find index of first occurence of provided text\n",
    "\n",
    "loremIpsum = 'Lorem ipsum dolor sit amet, consectetur adipiscing elit.'\n",
    "spacePossition = loremIpsum.find(' ')\n",
    "print(spacePossition)\n",
    "\n",
    "print(f'No result: {loremIpsum.find(\"x\")}')"
   ]
  },
  {
   "cell_type": "code",
   "execution_count": 38,
   "metadata": {},
   "outputs": [
    {
     "name": "stdout",
     "output_type": "stream",
     "text": [
      "Anna is 24 years old\n",
      "Anna is 24 years old\n"
     ]
    }
   ],
   "source": [
    "# format - replace {text} by provided value\n",
    "textToFormat = '{name} is {age} years old'\n",
    "print(textToFormat.format(name=\"Anna\", age=24))\n",
    "\n",
    "textWithoutKeywords = '{} is {} years old'\n",
    "print(textWithoutKeywords.format(\"Anna\", 24))"
   ]
  },
  {
   "cell_type": "code",
   "execution_count": 40,
   "metadata": {},
   "outputs": [
    {
     "name": "stdout",
     "output_type": "stream",
     "text": [
      "I'm Paweł Drab and I live in Pcim\n"
     ]
    }
   ],
   "source": [
    "# format_map - map dictionary to formated string\n",
    "me = {\n",
    "    \"name\": \"Paweł\",\n",
    "    \"lastName\": \"Drab\",\n",
    "    \"birthday\": \"23.10.1990\",\n",
    "    \"city\": \"Pcim\"\n",
    "}\n",
    "\n",
    "myInfo = \"I'm {name} {lastName} and I live in {city}\"\n",
    "print(myInfo.format_map(me))"
   ]
  },
  {
   "cell_type": "code",
   "execution_count": 41,
   "metadata": {},
   "outputs": [
    {
     "name": "stdout",
     "output_type": "stream",
     "text": [
      "5\n"
     ]
    },
    {
     "ename": "ValueError",
     "evalue": "substring not found",
     "output_type": "error",
     "traceback": [
      "\u001b[1;31m---------------------------------------------------------------------------\u001b[0m",
      "\u001b[1;31mValueError\u001b[0m                                Traceback (most recent call last)",
      "Cell \u001b[1;32mIn[41], line 7\u001b[0m\n\u001b[0;32m      4\u001b[0m spacePossition \u001b[38;5;241m=\u001b[39m loremIpsum\u001b[38;5;241m.\u001b[39mindex(\u001b[38;5;124m'\u001b[39m\u001b[38;5;124m \u001b[39m\u001b[38;5;124m'\u001b[39m)\n\u001b[0;32m      5\u001b[0m \u001b[38;5;28mprint\u001b[39m(spacePossition)\n\u001b[1;32m----> 7\u001b[0m \u001b[38;5;28mprint\u001b[39m(\u001b[38;5;124mf\u001b[39m\u001b[38;5;124m'\u001b[39m\u001b[38;5;124mNo result: \u001b[39m\u001b[38;5;132;01m{\u001b[39;00mloremIpsum\u001b[38;5;241m.\u001b[39mindex(\u001b[38;5;124m\"\u001b[39m\u001b[38;5;124mx\u001b[39m\u001b[38;5;124m\"\u001b[39m)\u001b[38;5;132;01m}\u001b[39;00m\u001b[38;5;124m'\u001b[39m)\n",
      "\u001b[1;31mValueError\u001b[0m: substring not found"
     ]
    }
   ],
   "source": [
    "# index(str) - like find, but it thrown an error if find nothing\n",
    "\n",
    "loremIpsum = 'Lorem ipsum dolor sit amet, consectetur adipiscing elit.'\n",
    "spacePossition = loremIpsum.index(' ')\n",
    "print(spacePossition)\n",
    "\n",
    "print(f'No result: {loremIpsum.index(\"x\")}')"
   ]
  },
  {
   "cell_type": "code",
   "execution_count": 48,
   "metadata": {},
   "outputs": [
    {
     "name": "stdout",
     "output_type": "stream",
     "text": [
      "Anna: True\n",
      "HELLO WORLD: False (because of space)\n"
     ]
    }
   ],
   "source": [
    "# isalnum() - is alphanumeric. Return False if any special character included\n",
    "\n",
    "print(f'{name}: {name.isalnum()}')\n",
    "print(f'{helloWorld}: {helloWorld.isalnum()} (because of space)')"
   ]
  },
  {
   "cell_type": "code",
   "execution_count": 49,
   "metadata": {},
   "outputs": [
    {
     "name": "stdout",
     "output_type": "stream",
     "text": [
      "password: True\n",
      "password123: False\n"
     ]
    }
   ],
   "source": [
    "# isalpha() - is aplhabetic only\n",
    "\n",
    "password = 'password'\n",
    "print(f'{password}: {password.isalpha()}')\n",
    "\n",
    "strongerPassword = 'password123'\n",
    "print(f'{strongerPassword}: {strongerPassword.isalpha()}')"
   ]
  },
  {
   "cell_type": "code",
   "execution_count": 51,
   "metadata": {},
   "outputs": [
    {
     "name": "stdout",
     "output_type": "stream",
     "text": [
      "MyBrand©: False\n"
     ]
    }
   ],
   "source": [
    "# isascci() - contains only ASCCI characters\n",
    "\n",
    "brand = 'MyBrand©'\n",
    "print(f'{brand}: {brand.isascii()}')"
   ]
  },
  {
   "cell_type": "code",
   "execution_count": 61,
   "metadata": {},
   "outputs": [
    {
     "name": "stdout",
     "output_type": "stream",
     "text": [
      "              123    ⁰³⁸    壹貳參    -42\n",
      "isdecimal()   True   False  False  False\n",
      "isdigit()     True   True   False  False\n",
      "isnumeric()   True   True   True   False\n"
     ]
    }
   ],
   "source": [
    "# isdecimal(), isdigit(), isnumeric()\n",
    "# https://stackoverflow.com/questions/44891070/whats-the-difference-between-str-isdigit-isnumeric-and-isdecimal-in-pyth\n",
    "\n",
    "numDecimal = \"123\"\n",
    "numDigit = \"⁰³⁸\"\n",
    "numNumeric = \"壹貳參\"\n",
    "notNum = \"-42\"\n",
    "\n",
    "header = '\\t\\t' + numDecimal + '\\t' + numDigit + '\\t' + numNumeric + '\\t' + notNum\n",
    "decimalCheck = 'isdecimal()\\t' + str(numDecimal.isdecimal()) + '\\t' + str(numDigit.isdecimal()) + '\\t' + str(numNumeric.isdecimal()) + '\\t' + str(notNum.isdecimal())\n",
    "digitCheck = 'isdigit()\\t' + str(numDecimal.isdigit()) + '\\t' + str(numDigit.isdigit()) + '\\t' + str(numNumeric.isdigit()) + '\\t' + str(notNum.isdigit())\n",
    "numericCheck = 'isnumeric()\\t' + str(numDecimal.isnumeric()) + '\\t' + str(numDigit.isnumeric()) + '\\t' + str(numNumeric.isnumeric()) + '\\t' + str(notNum.isnumeric())\n",
    "\n",
    "print(header.expandtabs(7))\n",
    "print(decimalCheck.expandtabs(7))\n",
    "print(digitCheck.expandtabs(7))\n",
    "print(numericCheck.expandtabs(7))\n"
   ]
  },
  {
   "cell_type": "code",
   "execution_count": 63,
   "metadata": {},
   "outputs": [
    {
     "name": "stdout",
     "output_type": "stream",
     "text": [
      "False\n",
      "True\n"
     ]
    }
   ],
   "source": [
    "# isidentifier() - check if string can be a valid Python name (e.g. variable)\n",
    "\n",
    "myVariableName = \"big-number\"\n",
    "print(myVariableName.isidentifier())\n",
    "\n",
    "myVariableName = \"bigNumber\"\n",
    "print(myVariableName.isidentifier())"
   ]
  },
  {
   "cell_type": "code",
   "execution_count": 65,
   "metadata": {},
   "outputs": [
    {
     "name": "stdout",
     "output_type": "stream",
     "text": [
      "False\n",
      "True\n"
     ]
    }
   ],
   "source": [
    "# islower() - check if only lowercase was used\n",
    "\n",
    "print(helloWorld.islower())\n",
    "print(password.islower())"
   ]
  },
  {
   "cell_type": "code",
   "execution_count": null,
   "metadata": {},
   "outputs": [],
   "source": []
  }
 ],
 "metadata": {
  "kernelspec": {
   "display_name": "Python 3 (ipykernel)",
   "language": "python",
   "name": "python3"
  },
  "language_info": {
   "codemirror_mode": {
    "name": "ipython",
    "version": 3
   },
   "file_extension": ".py",
   "mimetype": "text/x-python",
   "name": "python",
   "nbconvert_exporter": "python",
   "pygments_lexer": "ipython3",
   "version": "3.9.2"
  },
  "metadata": {
   "interpreter": {
    "hash": "63fd5069d213b44bf678585dea6b12cceca9941eaf7f819626cde1f2670de90d"
   }
  }
 },
 "nbformat": 4,
 "nbformat_minor": 2
}
