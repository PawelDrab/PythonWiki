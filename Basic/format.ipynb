{
 "cells": [
  {
   "attachments": {},
   "cell_type": "markdown",
   "metadata": {},
   "source": [
    "# Format String Syntax"
   ]
  },
  {
   "cell_type": "markdown",
   "metadata": {},
   "source": [
    "https://docs.python.org/3.11/library/string.html#formatstrings"
   ]
  },
  {
   "attachments": {},
   "cell_type": "markdown",
   "metadata": {},
   "source": [
    "## Date formating"
   ]
  },
  {
   "cell_type": "code",
   "execution_count": 33,
   "metadata": {},
   "outputs": [
    {
     "name": "stdout",
     "output_type": "stream",
     "text": [
      "2010-07-04 12:15:58\n",
      "12:15:58\n"
     ]
    }
   ],
   "source": [
    "import datetime\n",
    "\n",
    "d = datetime.datetime(2010, 7, 4, 12, 15, 58)\n",
    "\n",
    "print('{:%Y-%m-%d %H:%M:%S}'.format(d))\n",
    "print('{:%H:%M:%S}'.format(d))\n"
   ]
  },
  {
   "attachments": {},
   "cell_type": "markdown",
   "metadata": {},
   "source": [
    "## Table formating"
   ]
  },
  {
   "cell_type": "code",
   "execution_count": 2,
   "metadata": {},
   "outputs": [
    {
     "name": "stdout",
     "output_type": "stream",
     "text": [
      "a = 10, b = 5\n",
      "a < b:        False\n",
      "a <= b:       False\n"
     ]
    }
   ],
   "source": [
    "a = 10\n",
    "b = 5\n",
    "\n",
    "print(f'{a = }, {b = }')\n",
    "print('{:<13} {}'.format('a < b:', a < b))\n",
    "print('{:<13} {}'.format('a <= b:', a <= b))"
   ]
  },
  {
   "cell_type": "code",
   "execution_count": 31,
   "metadata": {},
   "outputs": [
    {
     "name": "stdout",
     "output_type": "stream",
     "text": [
      "Imię         Nazwisko     Miejscowość  Wiek Składka    Opłac  \n",
      "Paweł        Gaweł        Pcim           12   1,534.45 True\n",
      "Michał       Kowalczyk    Kraków         42   4,569.93 False\n",
      "Dominika     Hanusiak     Myślenice      63  32,485.45 True\n",
      "Anna         Nowak        Krzywaczka      3      35.63 False\n",
      "Marta        Morawiecka   Opole          74  14,569.00 True\n"
     ]
    }
   ],
   "source": [
    "people = {\n",
    "    1000: ('Paweł', 'Gaweł', 'Pcim', 12, 1_534.45, True),\n",
    "    1001: ('Michał', 'Kowalczyk', 'Kraków', 42, 4_569.93, False),\n",
    "    1002: ('Dominika', 'Hanusiak', 'Myślenice', 63, 32_485.45, True),\n",
    "    1003: ('Anna', 'Nowak', 'Krzywaczka', 3, 35.63, False),\n",
    "    1004: ('Marta', 'Morawiecka', 'Opole', 74, 14_569.00, True),\n",
    "}\n",
    "\n",
    "print (\"{:<12} {:<12} {:<12} {:<4} {:<10} {:<7}\".format('Imię','Nazwisko','Miejscowość','Wiek','Składka','Opłac'))\n",
    "\n",
    "for k, v in people.items():\n",
    "    name, lastName, city, age, amount, paid = v\n",
    "    print (\"{:<12} {:<12} {:<12} {:>4} {:>10,.2f} {:}\".format(name, lastName, city, age, amount, paid))"
   ]
  }
 ],
 "metadata": {
  "kernelspec": {
   "display_name": "Python 3",
   "language": "python",
   "name": "python3"
  },
  "language_info": {
   "codemirror_mode": {
    "name": "ipython",
    "version": 3
   },
   "file_extension": ".py",
   "mimetype": "text/x-python",
   "name": "python",
   "nbconvert_exporter": "python",
   "pygments_lexer": "ipython3",
   "version": "3.11.1"
  },
  "orig_nbformat": 4
 },
 "nbformat": 4,
 "nbformat_minor": 2
}
