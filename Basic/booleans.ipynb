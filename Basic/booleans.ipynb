{
 "cells": [
  {
   "attachments": {},
   "cell_type": "markdown",
   "metadata": {},
   "source": [
    "# Built-in Types - Booleans & None\n",
    "https://docs.python.org/3.11/library/stdtypes.html#truth-value-testing"
   ]
  },
  {
   "cell_type": "markdown",
   "metadata": {},
   "source": [
    "## None"
   ]
  },
  {
   "cell_type": "code",
   "execution_count": 1,
   "metadata": {},
   "outputs": [
    {
     "name": "stdout",
     "output_type": "stream",
     "text": [
      "None\n"
     ]
    }
   ],
   "source": [
    "empty = None\n",
    "print(empty)"
   ]
  },
  {
   "cell_type": "code",
   "execution_count": 2,
   "metadata": {},
   "outputs": [
    {
     "data": {
      "text/plain": [
       "NoneType"
      ]
     },
     "execution_count": 2,
     "metadata": {},
     "output_type": "execute_result"
    }
   ],
   "source": [
    "type(empty)"
   ]
  },
  {
   "attachments": {},
   "cell_type": "markdown",
   "metadata": {},
   "source": [
    "## Booleans"
   ]
  },
  {
   "cell_type": "code",
   "execution_count": 10,
   "metadata": {},
   "outputs": [],
   "source": [
    "from decimal import *"
   ]
  },
  {
   "attachments": {},
   "cell_type": "markdown",
   "metadata": {},
   "source": [
    "### False"
   ]
  },
  {
   "cell_type": "code",
   "execution_count": 15,
   "metadata": {},
   "outputs": [
    {
     "name": "stdout",
     "output_type": "stream",
     "text": [
      "a = 0 \t\t\t=> False\n",
      "b = 0.0 \t\t=> False\n",
      "c = 0 \t\t\t=> False\n",
      "d = False \t\t=> False\n"
     ]
    }
   ],
   "source": [
    "# By default, an object is considered true \n",
    "# unless its class defines either a __bool__() method that returns False \n",
    "# or a __len__() method that returns zero, when called with the object.\n",
    "\n",
    "# False:\n",
    "\n",
    "a = 0\n",
    "print(f'a = {a} \\t\\t\\t=> {a == True}')\n",
    "\n",
    "b = 0.0\n",
    "print(f'b = {b} \\t\\t=> {b == True}')\n",
    "\n",
    "c = Decimal(0)\n",
    "print(f'c = {c} \\t\\t\\t=> {c == True}')\n",
    "\n",
    "d = False\n",
    "print(f'd = {d} \\t\\t=> {d == True}')"
   ]
  },
  {
   "cell_type": "code",
   "execution_count": 16,
   "metadata": {},
   "outputs": [
    {
     "name": "stdout",
     "output_type": "stream",
     "text": [
      "e = [] \t\t\t=> False\n",
      "f = () \t\t\t=> False\n",
      "g =  \t\t\t=> False\n",
      "h = {} \t\t\t=> False\n",
      "i = set() \t\t=> False\n",
      "j = range(0, 0) \t=> False\n"
     ]
    }
   ],
   "source": [
    "e = []\n",
    "print(f'e = {e} \\t\\t\\t=> {e == True}')\n",
    "\n",
    "f = ()\n",
    "print(f'f = {f} \\t\\t\\t=> {f == True}')\n",
    "\n",
    "g = ''\n",
    "print(f'g = {g} \\t\\t\\t=> {g == True}')\n",
    "\n",
    "h = {}\n",
    "print(f'h = {h} \\t\\t\\t=> {h == True}')\n",
    "\n",
    "i = set()\n",
    "print(f'i = {i} \\t\\t=> {i == True}')\n",
    "\n",
    "j = range(0)\n",
    "print(f'j = {j} \\t=> {j == True}')"
   ]
  },
  {
   "cell_type": "markdown",
   "metadata": {},
   "source": [
    "## and, or, not"
   ]
  },
  {
   "cell_type": "code",
   "execution_count": 17,
   "metadata": {},
   "outputs": [],
   "source": [
    "x = True\n",
    "y = False"
   ]
  },
  {
   "cell_type": "code",
   "execution_count": 21,
   "metadata": {},
   "outputs": [
    {
     "data": {
      "text/plain": [
       "True"
      ]
     },
     "execution_count": 21,
     "metadata": {},
     "output_type": "execute_result"
    }
   ],
   "source": [
    "# This is a short-circuit operator, so it only evaluates the second argument if the first one is false.\n",
    "x or y"
   ]
  },
  {
   "cell_type": "code",
   "execution_count": 22,
   "metadata": {},
   "outputs": [
    {
     "data": {
      "text/plain": [
       "False"
      ]
     },
     "execution_count": 22,
     "metadata": {},
     "output_type": "execute_result"
    }
   ],
   "source": [
    "# This is a short-circuit operator, so it only evaluates the second argument if the first one is true.\n",
    "x and y"
   ]
  },
  {
   "cell_type": "code",
   "execution_count": 20,
   "metadata": {},
   "outputs": [
    {
     "data": {
      "text/plain": [
       "False"
      ]
     },
     "execution_count": 20,
     "metadata": {},
     "output_type": "execute_result"
    }
   ],
   "source": [
    "not x"
   ]
  },
  {
   "cell_type": "code",
   "execution_count": 24,
   "metadata": {},
   "outputs": [
    {
     "data": {
      "text/plain": [
       "True"
      ]
     },
     "execution_count": 24,
     "metadata": {},
     "output_type": "execute_result"
    }
   ],
   "source": [
    "# not has a lower priority than non-Boolean operators, \n",
    "# so not a == b is interpreted as not (a == b), and a == not b is a syntax error.\n",
    "not x == y"
   ]
  },
  {
   "attachments": {},
   "cell_type": "markdown",
   "metadata": {},
   "source": [
    "### Comparisons"
   ]
  },
  {
   "cell_type": "code",
   "execution_count": 25,
   "metadata": {},
   "outputs": [],
   "source": [
    "a = 10\n",
    "b = 5"
   ]
  },
  {
   "cell_type": "code",
   "execution_count": 43,
   "metadata": {},
   "outputs": [
    {
     "name": "stdout",
     "output_type": "stream",
     "text": [
      "a = 10, b = 5\n",
      "\n",
      "a < b:        False\n",
      "a <= b:       False\n",
      "a > b:        True\n",
      "a >= b:       True\n",
      "a == b:       False\n",
      "a != b:       True\n",
      "a is b:       False\n",
      "a is not b:   True\n"
     ]
    }
   ],
   "source": [
    "print(f'{a = }, {b = }\\n')\n",
    "print('{:<13} {}'.format('a < b:', a < b))\n",
    "print('{:<13} {}'.format('a <= b:', a <= b))\n",
    "print('{:<13} {}'.format('a > b:', a > b))\n",
    "print('{:<13} {}'.format('a >= b:', a >= b))\n",
    "print('{:<13} {}'.format('a == b:', a == b))\n",
    "print('{:<13} {}'.format('a != b:', a != b))\n",
    "print('{:<13} {}'.format('a is b:', a is b))\n",
    "print('{:<13} {}'.format('a is not b:', a is not b))"
   ]
  },
  {
   "attachments": {},
   "cell_type": "markdown",
   "metadata": {},
   "source": [
    "## Bitwise Operations\n",
    "https://docs.python.org/3.11/library/stdtypes.html#truth-value-testing"
   ]
  },
  {
   "cell_type": "code",
   "execution_count": 48,
   "metadata": {},
   "outputs": [
    {
     "name": "stdout",
     "output_type": "stream",
     "text": [
      "a = 1, b = 0\n",
      "\n",
      "a | b:        1\n",
      "a ^ b:        1\n",
      "a & b:        0\n",
      "a << b:       1\n",
      "a >> b:       1\n",
      "~a:           -2\n"
     ]
    }
   ],
   "source": [
    "a = 1\n",
    "b = 0\n",
    "\n",
    "print(f'{a = }, {b = }\\n')\n",
    "print('{:<13} {}'.format('a | b:', a | b))\n",
    "print('{:<13} {}'.format('a ^ b:', a ^ b))\n",
    "print('{:<13} {}'.format('a & b:', a & b))\n",
    "print('{:<13} {}'.format('a << b:', a << b))\n",
    "print('{:<13} {}'.format('a >> b:', a >> b))\n",
    "print('{:<13} {}'.format('~a:', ~a))"
   ]
  }
 ],
 "metadata": {
  "kernelspec": {
   "display_name": "Python 3",
   "language": "python",
   "name": "python3"
  },
  "language_info": {
   "codemirror_mode": {
    "name": "ipython",
    "version": 3
   },
   "file_extension": ".py",
   "mimetype": "text/x-python",
   "name": "python",
   "nbconvert_exporter": "python",
   "pygments_lexer": "ipython3",
   "version": "3.11.1"
  },
  "orig_nbformat": 4
 },
 "nbformat": 4,
 "nbformat_minor": 2
}
