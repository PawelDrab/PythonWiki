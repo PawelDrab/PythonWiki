{
 "cells": [
  {
   "attachments": {},
   "cell_type": "markdown",
   "metadata": {},
   "source": [
    "# Sequence Types"
   ]
  },
  {
   "attachments": {},
   "cell_type": "markdown",
   "metadata": {},
   "source": [
    "## Common Sequence Operations\n",
    "https://docs.python.org/3.11/library/stdtypes.html#common-sequence-operations"
   ]
  },
  {
   "cell_type": "code",
   "execution_count": 15,
   "metadata": {},
   "outputs": [
    {
     "name": "stdout",
     "output_type": "stream",
     "text": [
      "seq = [1, 3, 4, 6, 8, 9, 11, 13, 15] \n",
      "a = 6, b = 2\n",
      "\n",
      "a in seq         True\n",
      "a not in seq     False\n",
      "seq[3]           6\n",
      "seq[3:6]         [6, 8, 9]\n",
      "seq[1:6:2]       [3, 6, 9]\n",
      "len(seq)         9\n",
      "min(seq)         1\n",
      "max(seq)         15\n",
      "seq.count(a)     1\n",
      "seq.index(a)     3\n"
     ]
    }
   ],
   "source": [
    "seq = [1, 3, 4, 6, 8, 9, 11, 13, 15]\n",
    "\n",
    "a = 6\n",
    "b = 2\n",
    "\n",
    "print(f'{seq = } \\n{a = }, {b = }\\n')\n",
    "print('{:<16} {}'.format('a in seq', a in seq))\n",
    "print('{:<16} {}'.format('a not in seq', a not in seq))\n",
    "print('{:<16} {}'.format('seq[3]', seq[3]))\n",
    "print('{:<16} {}'.format('seq[3:6]', seq[3:6]))\n",
    "print('{:<16} {}'.format('seq[1:6:2]', seq[1:6:2]))\n",
    "print('{:<16} {}'.format('len(seq)', len(seq)))\n",
    "print('{:<16} {}'.format('min(seq)', min(seq)))\n",
    "print('{:<16} {}'.format('max(seq)', max(seq)))\n",
    "print('{:<16} {}'.format('seq.count(a)', seq.count(a)))\n",
    "print('{:<16} {}'.format('seq.index(a)', seq.index(a)))"
   ]
  },
  {
   "cell_type": "code",
   "execution_count": 19,
   "metadata": {},
   "outputs": [
    {
     "name": "stdout",
     "output_type": "stream",
     "text": [
      "seq = 'Lorem ipsum dolor sit amet' \n",
      "a = 'e', b = 'ips'\n",
      "\n",
      "a in seq         True\n",
      "b in seq         True\n",
      "a not in seq     False\n",
      "seq[3]           e\n",
      "seq[3:8]         em ip\n",
      "seq[1:8:2]       oe p\n",
      "len(seq)         26\n",
      "min(seq)          \n",
      "max(seq)         u\n",
      "seq.count(a)     2\n",
      "seq.index(a)     3\n"
     ]
    }
   ],
   "source": [
    "seq = 'Lorem ipsum dolor sit amet'\n",
    "\n",
    "a = 'e'\n",
    "b = 'ips'\n",
    "\n",
    "print(f'{seq = } \\n{a = }, {b = }\\n')\n",
    "print('{:<16} {}'.format('a in seq', a in seq))\n",
    "print('{:<16} {}'.format('b in seq', b in seq))\n",
    "print('{:<16} {}'.format('a not in seq', a not in seq))\n",
    "print('{:<16} {}'.format('seq[3]', seq[3]))\n",
    "print('{:<16} {}'.format('seq[3:8]', seq[3:8]))\n",
    "print('{:<16} {}'.format('seq[1:8:2]', seq[1:8:2]))\n",
    "print('{:<16} {}'.format('len(seq)', len(seq)))\n",
    "print('{:<16} {}'.format('min(seq)', min(seq)))\n",
    "print('{:<16} {}'.format('max(seq)', max(seq)))\n",
    "print('{:<16} {}'.format('seq.count(a)', seq.count(a)))\n",
    "print('{:<16} {}'.format('seq.index(a)', seq.index(a)))"
   ]
  },
  {
   "attachments": {},
   "cell_type": "markdown",
   "metadata": {},
   "source": [
    "## Mutable Sequence Types\n",
    "https://docs.python.org/3.11/library/stdtypes.html#mutable-sequence-types"
   ]
  },
  {
   "cell_type": "code",
   "execution_count": null,
   "metadata": {},
   "outputs": [],
   "source": []
  }
 ],
 "metadata": {
  "kernelspec": {
   "display_name": "Python 3",
   "language": "python",
   "name": "python3"
  },
  "language_info": {
   "codemirror_mode": {
    "name": "ipython",
    "version": 3
   },
   "file_extension": ".py",
   "mimetype": "text/x-python",
   "name": "python",
   "nbconvert_exporter": "python",
   "pygments_lexer": "ipython3",
   "version": "3.11.1"
  },
  "orig_nbformat": 4
 },
 "nbformat": 4,
 "nbformat_minor": 2
}
