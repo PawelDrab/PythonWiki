{
 "cells": [
  {
   "attachments": {},
   "cell_type": "markdown",
   "metadata": {},
   "source": [
    "# Numeric types\n",
    "https://docs.python.org/3.11/library/stdtypes.html#numeric-types-int-float-complex"
   ]
  },
  {
   "attachments": {},
   "cell_type": "markdown",
   "metadata": {},
   "source": [
    "## Scientific notation\n",
    "\n",
    "Formula:\n",
    "\n",
    "> `Ne^M or Ne^-M`\n",
    "\n",
    "Where N can be any number greater than 0 and less than 10 and M can be any integer."
   ]
  },
  {
   "cell_type": "code",
   "execution_count": 7,
   "metadata": {},
   "outputs": [],
   "source": [
    "# Examples:\n",
    "x = 1.23e6\n",
    "y = 4.78e-4\n",
    "\n",
    "bigX = 1_546_520_000\n",
    "smallY = 0.9845729992001"
   ]
  },
  {
   "cell_type": "code",
   "execution_count": 10,
   "metadata": {},
   "outputs": [
    {
     "name": "stdout",
     "output_type": "stream",
     "text": [
      "1.547e+09\n"
     ]
    }
   ],
   "source": [
    "print(f\"{bigX:.3e}\")"
   ]
  },
  {
   "cell_type": "code",
   "execution_count": 11,
   "metadata": {},
   "outputs": [
    {
     "name": "stdout",
     "output_type": "stream",
     "text": [
      "9.84573e-01\n"
     ]
    }
   ],
   "source": [
    "print(f\"{smallY:.5e}\")"
   ]
  },
  {
   "cell_type": "code",
   "execution_count": 12,
   "metadata": {},
   "outputs": [
    {
     "name": "stdout",
     "output_type": "stream",
     "text": [
      "1.55e+09\n"
     ]
    }
   ],
   "source": [
    "print(\"{:.2e}\".format(bigX))"
   ]
  },
  {
   "attachments": {},
   "cell_type": "markdown",
   "metadata": {},
   "source": [
    "## Numeral systems"
   ]
  },
  {
   "cell_type": "code",
   "execution_count": 14,
   "metadata": {},
   "outputs": [
    {
     "name": "stdout",
     "output_type": "stream",
     "text": [
      "binNum = 2\n",
      "octNum = 14\n",
      "hexNum = 162\n"
     ]
    }
   ],
   "source": [
    "binNum = 0b10\n",
    "octNum = 0o16\n",
    "hexNum = 0xA2\n",
    "\n",
    "print(f\"{binNum = }\")\n",
    "print(f\"{octNum = }\")\n",
    "print(f\"{hexNum = }\")"
   ]
  },
  {
   "cell_type": "code",
   "execution_count": 16,
   "metadata": {},
   "outputs": [
    {
     "name": "stdout",
     "output_type": "stream",
     "text": [
      "binNumUpper = 14\n",
      "octNumUpper = 1998\n",
      "hexNumUpper = 45474\n"
     ]
    }
   ],
   "source": [
    "binNumUpper = 0B1110\n",
    "octNumUpper = 0O3716\n",
    "hexNumUpper = 0XB1A2\n",
    "\n",
    "print(f\"{binNumUpper = }\")\n",
    "print(f\"{octNumUpper = }\")\n",
    "print(f\"{hexNumUpper = }\")"
   ]
  },
  {
   "cell_type": "code",
   "execution_count": 17,
   "metadata": {},
   "outputs": [
    {
     "name": "stdout",
     "output_type": "stream",
     "text": [
      "type(binNum) = <class 'int'>\n",
      "type(octNum) = <class 'int'>\n",
      "type(hexNum) = <class 'int'>\n"
     ]
    }
   ],
   "source": [
    "print(f'{type(binNum) = }')\n",
    "print(f'{type(octNum) = }')\n",
    "print(f'{type(hexNum) = }')"
   ]
  },
  {
   "cell_type": "code",
   "execution_count": 18,
   "metadata": {},
   "outputs": [
    {
     "name": "stdout",
     "output_type": "stream",
     "text": [
      "190\n"
     ]
    }
   ],
   "source": [
    "result = binNum * octNum + hexNum\n",
    "print(result)"
   ]
  },
  {
   "cell_type": "code",
   "execution_count": 19,
   "metadata": {},
   "outputs": [
    {
     "name": "stdout",
     "output_type": "stream",
     "text": [
      "27657\n"
     ]
    }
   ],
   "source": [
    "longBin = 0b110_1100_0000_1001\n",
    "print(longBin)"
   ]
  },
  {
   "attachments": {},
   "cell_type": "markdown",
   "metadata": {},
   "source": [
    "### bin(), oct(), hex()"
   ]
  },
  {
   "cell_type": "code",
   "execution_count": 21,
   "metadata": {},
   "outputs": [
    {
     "name": "stdout",
     "output_type": "stream",
     "text": [
      "bin(i) = '0b11000000110'\n",
      "oct(i) = '0o3006'\n",
      "hex(i) = '0x606'\n"
     ]
    }
   ],
   "source": [
    "i = 1542\n",
    "\n",
    "print(f'{bin(i) = }')\n",
    "print(f'{oct(i) = }')\n",
    "print(f'{hex(i) = }')"
   ]
  },
  {
   "cell_type": "code",
   "execution_count": 22,
   "metadata": {},
   "outputs": [
    {
     "name": "stdout",
     "output_type": "stream",
     "text": [
      "type(bin(i)) = <class 'str'>\n",
      "type(oct(i)) = <class 'str'>\n",
      "type(hex(i)) = <class 'str'>\n"
     ]
    }
   ],
   "source": [
    "print(f'{type(bin(i)) = }')\n",
    "print(f'{type(oct(i)) = }')\n",
    "print(f'{type(hex(i)) = }')"
   ]
  },
  {
   "cell_type": "code",
   "execution_count": 23,
   "metadata": {},
   "outputs": [
    {
     "name": "stdout",
     "output_type": "stream",
     "text": [
      "bin(i)[2:] = '11000000110'\n",
      "oct(i)[2:]  = '3006'\n",
      "hex(i)[2:]  = '606'\n"
     ]
    }
   ],
   "source": [
    "print(f'{bin(i)[2:] = }')\n",
    "print(f'{oct(i)[2:]  = }')\n",
    "print(f'{hex(i)[2:]  = }')"
   ]
  },
  {
   "attachments": {},
   "cell_type": "markdown",
   "metadata": {},
   "source": [
    "### format() b, o, x"
   ]
  },
  {
   "cell_type": "code",
   "execution_count": 31,
   "metadata": {},
   "outputs": [
    {
     "name": "stdout",
     "output_type": "stream",
     "text": [
      "11000000110\n",
      "3006\n",
      "606\n"
     ]
    }
   ],
   "source": [
    "print(format(i, 'b'))\n",
    "print(format(i, 'o'))\n",
    "print(format(i, 'x'))"
   ]
  },
  {
   "cell_type": "code",
   "execution_count": 30,
   "metadata": {},
   "outputs": [
    {
     "name": "stdout",
     "output_type": "stream",
     "text": [
      "0b11000000110\n",
      "0o3006\n",
      "0x606\n"
     ]
    }
   ],
   "source": [
    "print(format(i, '#b'))\n",
    "print(format(i, '#o'))\n",
    "print(format(i, '#x'))"
   ]
  },
  {
   "cell_type": "code",
   "execution_count": 35,
   "metadata": {},
   "outputs": [
    {
     "name": "stdout",
     "output_type": "stream",
     "text": [
      "0000011000000110\n",
      "00003006\n",
      "0000000606\n"
     ]
    }
   ],
   "source": [
    "print(format(i, '016b'))\n",
    "print(format(i, '08o'))\n",
    "print(format(i, '010x'))"
   ]
  },
  {
   "cell_type": "code",
   "execution_count": 27,
   "metadata": {},
   "outputs": [
    {
     "name": "stdout",
     "output_type": "stream",
     "text": [
      "type(format(i, 'b')) = <class 'str'>\n",
      "type(format(i, 'o')) = <class 'str'>\n",
      "type(format(i, 'x')) = <class 'str'>\n"
     ]
    }
   ],
   "source": [
    "print(f\"{type(format(i, 'b')) = }\")\n",
    "print(f\"{type(format(i, 'o')) = }\")\n",
    "print(f\"{type(format(i, 'x')) = }\")"
   ]
  },
  {
   "cell_type": "code",
   "execution_count": 38,
   "metadata": {},
   "outputs": [
    {
     "name": "stdout",
     "output_type": "stream",
     "text": [
      "011000000110\n",
      "000000003006\n",
      "011000000110\n"
     ]
    }
   ],
   "source": [
    "print('{:012b}'.format(i))\n",
    "print('{:012o}'.format(i))\n",
    "print('{:012b}'.format(i))"
   ]
  },
  {
   "cell_type": "code",
   "execution_count": 39,
   "metadata": {},
   "outputs": [
    {
     "name": "stdout",
     "output_type": "stream",
     "text": [
      "011000000110\n",
      "000000003006\n",
      "000000000606\n"
     ]
    }
   ],
   "source": [
    "print(f'{i:012b}')\n",
    "print(f'{i:012o}')\n",
    "print(f'{i:012x}')"
   ]
  },
  {
   "cell_type": "markdown",
   "metadata": {},
   "source": [
    "## Functions"
   ]
  },
  {
   "cell_type": "code",
   "execution_count": 36,
   "metadata": {},
   "outputs": [],
   "source": [
    "import math\n",
    "\n",
    "nums = [10, 4, -6, 13.586, -48,366, 0]"
   ]
  },
  {
   "cell_type": "code",
   "execution_count": 43,
   "metadata": {},
   "outputs": [
    {
     "name": "stdout",
     "output_type": "stream",
     "text": [
      "    i     | abs(i)   | int(i)   |float(i)  | round(i,x)   | math.floor(i)  |  pow(i,x)   \n",
      "\n",
      "       10 |       10 |       10 |     10.0 |           10 |             10 |        100.0\n",
      "        4 |        4 |        4 |      4.0 |            4 |              4 |         16.0\n",
      "       -6 |        6 |       -6 |     -6.0 |           -6 |             -6 |         36.0\n",
      "   13.586 |   13.586 |       13 |   13.586 |        13.59 |             13 |   184.579396\n",
      "      -48 |       48 |      -48 |    -48.0 |          -48 |            -48 |       2304.0\n",
      "      366 |      366 |      366 |    366.0 |          366 |            366 |     133956.0\n",
      "        0 |        0 |        0 |      0.0 |            0 |              0 |          0.0\n"
     ]
    }
   ],
   "source": [
    "print (\"{:^9} |{:^9} |{:^9} |{:^9} |{:^13} |{:^15} |{:^13}\\n\"\n",
    "       .format('i', 'abs(i)','int(i)','float(i)','round(i,x)','math.floor(i)', 'pow(i,x)'))\n",
    "\n",
    "for i in nums:\n",
    "    print (\"{:>9} |{:>9} |{:>9} |{:>9} |{:>13} |{:>15} |{:>13}\"\n",
    "           .format(i, abs(i), int(i), float(i), round(i, 2), math.floor(i), pow(i, 2)))"
   ]
  }
 ],
 "metadata": {
  "kernelspec": {
   "display_name": "Python 3",
   "language": "python",
   "name": "python3"
  },
  "language_info": {
   "codemirror_mode": {
    "name": "ipython",
    "version": 3
   },
   "file_extension": ".py",
   "mimetype": "text/x-python",
   "name": "python",
   "nbconvert_exporter": "python",
   "pygments_lexer": "ipython3",
   "version": "3.11.1"
  },
  "orig_nbformat": 4
 },
 "nbformat": 4,
 "nbformat_minor": 2
}
