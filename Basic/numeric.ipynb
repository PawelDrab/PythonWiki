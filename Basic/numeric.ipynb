{
 "cells": [
  {
   "attachments": {},
   "cell_type": "markdown",
   "metadata": {},
   "source": [
    "# Numeric types\n",
    "https://docs.python.org/3.11/library/stdtypes.html#numeric-types-int-float-complex"
   ]
  },
  {
   "cell_type": "markdown",
   "metadata": {},
   "source": [
    "## Functions"
   ]
  },
  {
   "cell_type": "code",
   "execution_count": 36,
   "metadata": {},
   "outputs": [],
   "source": [
    "import math\n",
    "\n",
    "nums = [10, 4, -6, 13.586, -48,366, 0]"
   ]
  },
  {
   "cell_type": "code",
   "execution_count": 43,
   "metadata": {},
   "outputs": [
    {
     "name": "stdout",
     "output_type": "stream",
     "text": [
      "    i     | abs(i)   | int(i)   |float(i)  | round(i,x)   | math.floor(i)  |  pow(i,x)   \n",
      "\n",
      "       10 |       10 |       10 |     10.0 |           10 |             10 |        100.0\n",
      "        4 |        4 |        4 |      4.0 |            4 |              4 |         16.0\n",
      "       -6 |        6 |       -6 |     -6.0 |           -6 |             -6 |         36.0\n",
      "   13.586 |   13.586 |       13 |   13.586 |        13.59 |             13 |   184.579396\n",
      "      -48 |       48 |      -48 |    -48.0 |          -48 |            -48 |       2304.0\n",
      "      366 |      366 |      366 |    366.0 |          366 |            366 |     133956.0\n",
      "        0 |        0 |        0 |      0.0 |            0 |              0 |          0.0\n"
     ]
    }
   ],
   "source": [
    "print (\"{:^9} |{:^9} |{:^9} |{:^9} |{:^13} |{:^15} |{:^13}\\n\"\n",
    "       .format('i', 'abs(i)','int(i)','float(i)','round(i,x)','math.floor(i)', 'pow(i,x)'))\n",
    "\n",
    "for i in nums:\n",
    "    print (\"{:>9} |{:>9} |{:>9} |{:>9} |{:>13} |{:>15} |{:>13}\"\n",
    "           .format(i, abs(i), int(i), float(i), round(i, 2), math.floor(i), pow(i, 2)))"
   ]
  }
 ],
 "metadata": {
  "kernelspec": {
   "display_name": "Python 3",
   "language": "python",
   "name": "python3"
  },
  "language_info": {
   "codemirror_mode": {
    "name": "ipython",
    "version": 3
   },
   "file_extension": ".py",
   "mimetype": "text/x-python",
   "name": "python",
   "nbconvert_exporter": "python",
   "pygments_lexer": "ipython3",
   "version": "3.11.1"
  },
  "orig_nbformat": 4
 },
 "nbformat": 4,
 "nbformat_minor": 2
}
