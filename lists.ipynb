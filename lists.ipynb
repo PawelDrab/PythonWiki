{
 "cells": [
  {
   "cell_type": "markdown",
   "metadata": {},
   "source": [
    "# Lists"
   ]
  },
  {
   "attachments": {},
   "cell_type": "markdown",
   "metadata": {},
   "source": [
    "## Constructor"
   ]
  },
  {
   "cell_type": "code",
   "execution_count": 64,
   "metadata": {},
   "outputs": [
    {
     "name": "stdout",
     "output_type": "stream",
     "text": [
      "sequenceBrackets = [1, 2, 3, 4]\n",
      "listComprehension = [1, 4, 9, 16]\n"
     ]
    },
    {
     "ename": "TypeError",
     "evalue": "'list' object is not callable",
     "output_type": "error",
     "traceback": [
      "\u001b[1;31m---------------------------------------------------------------------------\u001b[0m",
      "\u001b[1;31mTypeError\u001b[0m                                 Traceback (most recent call last)",
      "Cell \u001b[1;32mIn[64], line 9\u001b[0m\n\u001b[0;32m      6\u001b[0m \u001b[39mprint\u001b[39m(\u001b[39mf\u001b[39m\u001b[39m'\u001b[39m\u001b[39m{\u001b[39;00mlistComprehension\u001b[39m \u001b[39m\u001b[39m= }\u001b[39;00m\u001b[39m'\u001b[39m)\n\u001b[0;32m      8\u001b[0m abc \u001b[39m=\u001b[39m [\u001b[39m'\u001b[39m\u001b[39mabc\u001b[39m\u001b[39m'\u001b[39m, \u001b[39m'\u001b[39m\u001b[39mdef\u001b[39m\u001b[39m'\u001b[39m, \u001b[39m'\u001b[39m\u001b[39mghi\u001b[39m\u001b[39m'\u001b[39m]\n\u001b[1;32m----> 9\u001b[0m listAbc \u001b[39m=\u001b[39m \u001b[39mlist\u001b[39;49m(abc)\n\u001b[0;32m     10\u001b[0m \u001b[39mprint\u001b[39m(\u001b[39mf\u001b[39m\u001b[39m'\u001b[39m\u001b[39m{\u001b[39;00mlistAbc\u001b[39m \u001b[39m\u001b[39m= }\u001b[39;00m\u001b[39m'\u001b[39m)\n",
      "\u001b[1;31mTypeError\u001b[0m: 'list' object is not callable"
     ]
    }
   ],
   "source": [
    "emptyList = []\n",
    "sequenceBrackets = [1, 2, 3, 4]\n",
    "print(f'{sequenceBrackets = }')\n",
    "\n",
    "listComprehension = [x ** 2 for x in sequenceBrackets]\n",
    "print(f'{listComprehension = }')\n",
    "\n",
    "abc = ['abc', 'def', 'ghi']\n",
    "listAbc = list(abc)\n",
    "print(f'{listAbc = }')\n"
   ]
  },
  {
   "cell_type": "code",
   "execution_count": 26,
   "metadata": {},
   "outputs": [
    {
     "name": "stdout",
     "output_type": "stream",
     "text": [
      "1\n"
     ]
    }
   ],
   "source": [
    "# basic list\n",
    "\n",
    "list = [1, 5, 9, 8, 11, 13, 17, 23]\n",
    "print(list[0])"
   ]
  },
  {
   "attachments": {},
   "cell_type": "markdown",
   "metadata": {},
   "source": [
    "#### negative indexes"
   ]
  },
  {
   "cell_type": "code",
   "execution_count": 42,
   "metadata": {},
   "outputs": [
    {
     "name": "stdout",
     "output_type": "stream",
     "text": [
      "list[-1] = 23\n",
      "list[-5] = 8\n"
     ]
    }
   ],
   "source": [
    "print(f'{list[-1] = }')\n",
    "print(f'{list[-5] = }')"
   ]
  },
  {
   "cell_type": "code",
   "execution_count": 27,
   "metadata": {},
   "outputs": [
    {
     "name": "stdout",
     "output_type": "stream",
     "text": [
      "[1, 8, 27, 64, 125]\n"
     ]
    }
   ],
   "source": [
    "cubes = [1, 8, 27, 65, 125]\n",
    "cubes[3] = 64\n",
    "print(cubes)"
   ]
  },
  {
   "cell_type": "code",
   "execution_count": 28,
   "metadata": {},
   "outputs": [
    {
     "name": "stdout",
     "output_type": "stream",
     "text": [
      "[1, 8, 27, 64, 125, 216, 343, 512, 729]\n"
     ]
    }
   ],
   "source": [
    "newCubes = []\n",
    "for i in range(1, 10):\n",
    "    newCubes.append(i ** 3)\n",
    "\n",
    "print(newCubes)"
   ]
  },
  {
   "cell_type": "code",
   "execution_count": 29,
   "metadata": {},
   "outputs": [],
   "source": [
    "europe = ['Poland', 'Germany', 'France']\n",
    "asia = ['China', 'Japan', 'Vietnam']\n",
    "america = ['United States', 'Canada', 'Mexico']\n",
    "oceania = ['Australia']\n",
    "\n",
    "letters = ['a', 'b', 'c', 'd', 'e', 'f', 'g']"
   ]
  },
  {
   "cell_type": "code",
   "execution_count": 30,
   "metadata": {},
   "outputs": [
    {
     "name": "stdout",
     "output_type": "stream",
     "text": [
      "[['Poland', 'Germany', 'France'], ['China', 'Japan', 'Vietnam'], ['United States', 'Canada', 'Mexico'], ['Australia']]\n",
      "[[1, 8, 27, 64, 125, 216, 343, 512, 729], ['a', 'b', 'c', 'd', 'e', 'f', 'g']]\n"
     ]
    }
   ],
   "source": [
    "# list of lists\n",
    "continents = [europe, asia, america, oceania]\n",
    "print(continents)\n",
    "\n",
    "cubesAndLetters = [newCubes, letters]\n",
    "print(cubesAndLetters)"
   ]
  },
  {
   "cell_type": "code",
   "execution_count": 31,
   "metadata": {},
   "outputs": [
    {
     "name": "stdout",
     "output_type": "stream",
     "text": [
      "['China', 'Japan', 'Vietnam']\n",
      "China\n"
     ]
    }
   ],
   "source": [
    "print(continents[1])\n",
    "print(continents[1][0])"
   ]
  },
  {
   "cell_type": "markdown",
   "metadata": {},
   "source": [
    "### Len()"
   ]
  },
  {
   "cell_type": "code",
   "execution_count": 32,
   "metadata": {},
   "outputs": [
    {
     "name": "stdout",
     "output_type": "stream",
     "text": [
      "7\n"
     ]
    }
   ],
   "source": [
    "print(len(letters))"
   ]
  },
  {
   "attachments": {},
   "cell_type": "markdown",
   "metadata": {},
   "source": [
    "### Slice"
   ]
  },
  {
   "cell_type": "code",
   "execution_count": 33,
   "metadata": {},
   "outputs": [
    {
     "name": "stdout",
     "output_type": "stream",
     "text": [
      "[9, 8, 11]\n"
     ]
    }
   ],
   "source": [
    "print(list[2:5])"
   ]
  },
  {
   "cell_type": "code",
   "execution_count": 34,
   "metadata": {},
   "outputs": [
    {
     "name": "stdout",
     "output_type": "stream",
     "text": [
      "[23, 17, 13, 11, 8, 9, 5, 1]\n"
     ]
    }
   ],
   "source": [
    "print(list[::-1])"
   ]
  },
  {
   "cell_type": "code",
   "execution_count": 48,
   "metadata": {},
   "outputs": [
    {
     "name": "stdout",
     "output_type": "stream",
     "text": [
      "letters = ['a', 'b', 'c', 'd', 'e', 'f', 'g']\n",
      "letters = ['a', 'b', 'C', 'D', 'E', 'f', 'g']\n",
      "letters = ['a', 'b', 'f', 'g']\n",
      "letters = []\n"
     ]
    }
   ],
   "source": [
    "letters = ['a', 'b', 'c', 'd', 'e', 'f', 'g']\n",
    "print(f'{letters = }')\n",
    "\n",
    "letters[2:5] = ['C', 'D', 'E']\n",
    "print(f'{letters = }')\n",
    "\n",
    "letters[2:5] = []\n",
    "print(f'{letters = }')\n",
    "\n",
    "letters[:] = []\n",
    "print(f'{letters = }')"
   ]
  },
  {
   "attachments": {},
   "cell_type": "markdown",
   "metadata": {},
   "source": [
    "### Clone/copy list"
   ]
  },
  {
   "cell_type": "code",
   "execution_count": 49,
   "metadata": {},
   "outputs": [
    {
     "name": "stdout",
     "output_type": "stream",
     "text": [
      "\n",
      "id(listA) = 1703992192640\n",
      "id(listB) = 1703992192640\n",
      "id(listC) = 1703992192640\n",
      "\n",
      "listA = ['a', 2, 3, 4, 5]\n",
      "listC = ['a', 2, 3, 4, 5]\n"
     ]
    }
   ],
   "source": [
    "listA = [1, 2, 3, 4, 5]\n",
    "listB = listA\n",
    "listC = listB\n",
    "\n",
    "print(f'\\n{id(listA) = }')\n",
    "print(f'{id(listB) = }')\n",
    "print(f'{id(listC) = }')\n",
    "\n",
    "listC[0] = 'a'\n",
    "print(f'\\n{listA = }')\n",
    "print(f'{listC = }')"
   ]
  },
  {
   "cell_type": "code",
   "execution_count": 50,
   "metadata": {},
   "outputs": [
    {
     "name": "stdout",
     "output_type": "stream",
     "text": [
      "\n",
      "id(listA) = 1703992195328\n",
      "id(listB) = 1703992195328\n",
      "id(listC) = 1703992195328\n",
      "\n",
      "listA = [1, 2, 3, 4, 5]\n",
      "listC = ['a', 'b', 'c', 'd', 'e']\n",
      "id(listC) = 1703992192640\n"
     ]
    }
   ],
   "source": [
    "listA = [1, 2, 3, 4, 5]\n",
    "listB = listA\n",
    "listC = listB\n",
    "\n",
    "print(f'\\n{id(listA) = }')\n",
    "print(f'{id(listB) = }')\n",
    "print(f'{id(listC) = }')\n",
    "\n",
    "listC = ['a', 'b', 'c', 'd', 'e']\n",
    "print(f'\\n{listA = }')\n",
    "print(f'{listC = }')\n",
    "print(f'{id(listC) = }')"
   ]
  },
  {
   "attachments": {},
   "cell_type": "markdown",
   "metadata": {},
   "source": [
    "### Duplicate list"
   ]
  },
  {
   "attachments": {},
   "cell_type": "markdown",
   "metadata": {},
   "source": [
    "#### copy()"
   ]
  },
  {
   "cell_type": "code",
   "execution_count": 51,
   "metadata": {},
   "outputs": [
    {
     "name": "stdout",
     "output_type": "stream",
     "text": [
      "\n",
      "listA = [1, 2, 3, 4, 5]\n",
      "listB = ['a', 2, 3, 4, 5]\n",
      "\n",
      "id(listA) = 1703992185024\n",
      "id(listB) = 1703992262720\n"
     ]
    }
   ],
   "source": [
    "listA = [1, 2, 3, 4, 5]\n",
    "listB = listA.copy()\n",
    "\n",
    "listB[0] = 'a'\n",
    "print(f'\\n{listA = }')\n",
    "print(f'{listB = }')\n",
    "\n",
    "print(f'\\n{id(listA) = }')\n",
    "print(f'{id(listB) = }')"
   ]
  },
  {
   "attachments": {},
   "cell_type": "markdown",
   "metadata": {},
   "source": [
    "#### copy by slice"
   ]
  },
  {
   "cell_type": "code",
   "execution_count": 52,
   "metadata": {},
   "outputs": [
    {
     "name": "stdout",
     "output_type": "stream",
     "text": [
      "[1, 5, 9, 8, 11, 13, 17, 23]\n",
      "[2, 5, 9, 8, 11, 13, 17, 23]\n",
      "\n",
      "id(list) = 1703990739136\n",
      "id(newList) = 1703992270016\n"
     ]
    }
   ],
   "source": [
    "newList = list[:]\n",
    "print(newList)\n",
    "\n",
    "# newList is duplicated, so we can replace its values\n",
    "newList[0] = 2\n",
    "print(newList)\n",
    "\n",
    "print(f'\\n{id(list) = }')\n",
    "print(f'{id(newList) = }')"
   ]
  },
  {
   "cell_type": "markdown",
   "metadata": {},
   "source": [
    "### Concatenation"
   ]
  },
  {
   "cell_type": "code",
   "execution_count": 53,
   "metadata": {},
   "outputs": [
    {
     "name": "stdout",
     "output_type": "stream",
     "text": [
      "euroasia = ['Poland', 'Germany', 'France', 'China', 'Japan', 'Vietnam']\n",
      "europe = ['Poland', 'Germany', 'France', 'Slovakia', 'Spain', 'Great Britan']\n"
     ]
    }
   ],
   "source": [
    "# list concatenation\n",
    "europe = ['Poland', 'Germany', 'France']\n",
    "asia = ['China', 'Japan', 'Vietnam']\n",
    "america = ['United States', 'Canada', 'Mexico']\n",
    "oceania = ['Australia']\n",
    "\n",
    "euroasia = europe + asia\n",
    "print(f'{euroasia = }')\n",
    "\n",
    "europe += ['Slovakia', 'Spain', 'Great Britan']\n",
    "\n",
    "print(f'{europe = }')"
   ]
  },
  {
   "attachments": {},
   "cell_type": "markdown",
   "metadata": {},
   "source": [
    "### append()"
   ]
  },
  {
   "cell_type": "code",
   "execution_count": 54,
   "metadata": {},
   "outputs": [
    {
     "name": "stdout",
     "output_type": "stream",
     "text": [
      "europe = ['Poland', 'Germany', 'France', 'Slovakia', 'Spain', 'Great Britan', 'Norway']\n"
     ]
    }
   ],
   "source": [
    "europe.append('Norway')\n",
    "print(f'{europe = }')"
   ]
  }
 ],
 "metadata": {
  "kernelspec": {
   "display_name": "Python 3",
   "language": "python",
   "name": "python3"
  },
  "language_info": {
   "codemirror_mode": {
    "name": "ipython",
    "version": 3
   },
   "file_extension": ".py",
   "mimetype": "text/x-python",
   "name": "python",
   "nbconvert_exporter": "python",
   "pygments_lexer": "ipython3",
   "version": "3.11.1"
  },
  "metadata": {
   "interpreter": {
    "hash": "63fd5069d213b44bf678585dea6b12cceca9941eaf7f819626cde1f2670de90d"
   }
  },
  "orig_nbformat": 2
 },
 "nbformat": 4,
 "nbformat_minor": 2
}
